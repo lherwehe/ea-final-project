{
 "cells": [
  {
   "cell_type": "markdown",
   "metadata": {},
   "source": [
    "# Final Project: Earth Analytics Python Course, Spring 2020\n",
    "## Steph Shepherd & Lauren Herwehe"
   ]
  },
  {
   "cell_type": "code",
   "execution_count": 30,
   "metadata": {},
   "outputs": [],
   "source": [
    "# Import libraries\n",
    "import warnings\n",
    "from glob import glob\n",
    "import os\n",
    "\n",
    "import numpy as np\n",
    "import numpy.ma as ma\n",
    "import pandas as pd\n",
    "import matplotlib.pyplot as plt\n",
    "from matplotlib.colors import ListedColormap\n",
    "import geopandas as gpd\n",
    "from geopandas import GeoDataFrame as gdf\n",
    "from shapely.geometry import Point, Polygon\n",
    "\n",
    "import earthpy as et\n",
    "import earthpy.spatial as es\n",
    "import earthpy.plot as ep\n",
    "\n",
    "# Set working directory\n",
    "os.chdir(os.path.join(et.io.HOME, 'earth-analytics', 'data', 'final-project-data'))"
   ]
  },
  {
   "cell_type": "code",
   "execution_count": 31,
   "metadata": {},
   "outputs": [
    {
     "data": {
      "text/plain": [
       "'/home/jovyan/earth-analytics/data/earthpy-downloads/12216467'"
      ]
     },
     "execution_count": 31,
     "metadata": {},
     "output_type": "execute_result"
    }
   ],
   "source": [
    "#Download data with figshare\n",
    "#Ramsar sites\n",
    "et.data.get_data(url='https://ndownloader.figshare.com/articles/12217679')\n",
    "\n",
    "#Future dams\n",
    "et.data.get_data(url='https://ndownloader.figshare.com/articles/12216467')"
   ]
  },
  {
   "cell_type": "code",
   "execution_count": 34,
   "metadata": {},
   "outputs": [
    {
     "name": "stdout",
     "output_type": "stream",
     "text": [
      "epsg:4326\n"
     ]
    }
   ],
   "source": [
    "# Open the ramsar shapefile with geopandas\n",
    "ramsar_areas = gpd.read_file(os.path.join(\"ramsar-boundaries\", \"features_publishedPolygon.shp\"))\n",
    "dam_points = gpd.read_file(os.path.join(\"future-dams\", \"future-dams-shapefile\", \"future_dams_2015.shp\"))\n",
    "\n",
    "# Check the crs of the ramsar sites\n",
    "print(ramsar_areas.crs)\n",
    "\n",
    "# Open the dams csv files with pandas\n",
    "fname = os.path.join(\"future-dams\", \"future_dams_2015.csv\")\n",
    "df = pd.read_csv(fname)\n",
    "\n",
    "geometry = [Point(xy) for xy in zip(df.LAT_cleaned, df.Lon_Cleaned)]\n",
    "crs = {'init': 'epsg:4326'} \n",
    "geo_df = gdf(df, crs=crs, geometry=geometry)\n",
    "\n",
    "geo_df.to_file(driver='ESRI Shapefile', filename='future_dams_2015.shp')"
   ]
  },
  {
   "cell_type": "code",
   "execution_count": null,
   "metadata": {},
   "outputs": [],
   "source": []
  },
  {
   "cell_type": "code",
   "execution_count": 27,
   "metadata": {},
   "outputs": [],
   "source": []
  },
  {
   "cell_type": "code",
   "execution_count": null,
   "metadata": {},
   "outputs": [],
   "source": [
    "\n"
   ]
  }
 ],
 "metadata": {
  "kernelspec": {
   "display_name": "Python 3",
   "language": "python",
   "name": "python3"
  },
  "language_info": {
   "codemirror_mode": {
    "name": "ipython",
    "version": 3
   },
   "file_extension": ".py",
   "mimetype": "text/x-python",
   "name": "python",
   "nbconvert_exporter": "python",
   "pygments_lexer": "ipython3",
   "version": "3.7.6"
  },
  "toc": {
   "base_numbering": 1,
   "nav_menu": {},
   "number_sections": true,
   "sideBar": true,
   "skip_h1_title": false,
   "title_cell": "Table of Contents",
   "title_sidebar": "Contents",
   "toc_cell": false,
   "toc_position": {},
   "toc_section_display": true,
   "toc_window_display": false
  }
 },
 "nbformat": 4,
 "nbformat_minor": 4
}
