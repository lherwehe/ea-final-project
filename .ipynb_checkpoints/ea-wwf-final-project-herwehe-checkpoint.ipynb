{
 "cells": [
  {
   "cell_type": "markdown",
   "metadata": {},
   "source": [
    "# Final Project: Earth Analytics Python Course, Spring 2020\n",
    "## Steph Shepherd & Lauren Herwehe"
   ]
  },
  {
   "cell_type": "code",
   "execution_count": 30,
   "metadata": {},
   "outputs": [],
   "source": [
    "# Import libraries\n",
    "import warnings\n",
    "from glob import glob\n",
    "import os\n",
    "\n",
    "import numpy as np\n",
    "import numpy.ma as ma\n",
    "import pandas as pd\n",
    "import matplotlib.pyplot as plt\n",
    "from matplotlib.colors import ListedColormap\n",
    "import geopandas as gpd\n",
    "from geopandas import GeoDataFrame as gdf\n",
    "from shapely.geometry import Point, Polygon\n",
    "\n",
    "import earthpy as et\n",
    "import earthpy.spatial as es\n",
    "import earthpy.plot as ep\n",
    "\n",
    "# Set working directory\n",
    "os.chdir(os.path.join(et.io.HOME, 'earth-analytics', 'data', 'final-project-data'))"
   ]
  },
  {
   "cell_type": "code",
   "execution_count": 31,
   "metadata": {},
   "outputs": [
    {
     "data": {
      "text/plain": [
       "'/home/jovyan/earth-analytics/data/earthpy-downloads/12216467'"
      ]
     },
     "execution_count": 31,
     "metadata": {},
     "output_type": "execute_result"
    }
   ],
   "source": [
    "#Download data with figshare\n",
    "#Ramsar sites\n",
    "et.data.get_data(url='https://ndownloader.figshare.com/articles/12217679')\n",
    "\n",
    "#Future dams\n",
    "et.data.get_data(url='https://ndownloader.figshare.com/articles/12216467')"
   ]
  },
  {
   "cell_type": "code",
   "execution_count": 39,
   "metadata": {},
   "outputs": [
    {
     "name": "stdout",
     "output_type": "stream",
     "text": [
      "epsg:4326\n"
     ]
    },
    {
     "name": "stderr",
     "output_type": "stream",
     "text": [
      "/opt/conda/lib/python3.7/site-packages/pyproj/crs/crs.py:53: FutureWarning: '+init=<authority>:<code>' syntax is deprecated. '<authority>:<code>' is the preferred initialization method. When making the change, be mindful of axis order changes: https://pyproj4.github.io/pyproj/stable/gotchas.html#axis-order-changes-in-proj-6\n",
      "  return _prepare_from_string(\" \".join(pjargs))\n"
     ]
    }
   ],
   "source": [
    "# Open the ramsar shapefile with geopandas\n",
    "ramsar_areas = gpd.read_file(os.path.join(\"ramsar-boundaries\", \"features_publishedPolygon.shp\"))\n",
    "\n",
    "# Check the crs of the ramsar sites\n",
    "print(ramsar_areas.crs)\n",
    "\n",
    "# Open the dams csv files with pandas\n",
    "fname = os.path.join(\"future-dams\", \"future_dams_2015.csv\")\n",
    "df = pd.read_csv(fname)\n",
    "\n",
    "# Covert the pandas dataframe to a shapefile for plotting\n",
    "geometry = [Point(xy) for xy in zip(df.Lon_Cleaned, df.LAT_cleaned)]\n",
    "crs = {'init': 'epsg:4326'} \n",
    "geo_df = gdf(df, crs=crs, geometry=geometry)\n",
    "geo_df.to_file(driver='ESRI Shapefile', filename='proposed_dams.shp')\n",
    "\n",
    "proposed_dams = gpd.read_file(\"proposed_dams.shp\")"
   ]
  },
  {
   "cell_type": "code",
   "execution_count": 40,
   "metadata": {},
   "outputs": [
    {
     "data": {
      "text/plain": [
       "(-189.3208207127645, 196.99981825066928, -61.58103382202385, 88.16581615650217)"
      ]
     },
     "execution_count": 40,
     "metadata": {},
     "output_type": "execute_result"
    },
    {
     "data": {
      "image/png": "[encoded data removed]",
      "text/plain": [
       "<Figure size 720x360 with 1 Axes>"
      ]
     },
     "metadata": {
      "needs_background": "light"
     },
     "output_type": "display_data"
    }
   ],
   "source": [
    "# Create a map of the dams and the ramsar sites\n",
    "# Plot the data\n",
    "fig, ax = plt.subplots(figsize=(10, 5))\n",
    "ramsar_areas.plot(edgecolor=\"black\",\n",
    "                    facecolor='none',\n",
    "                    ax=ax)\n",
    "\n",
    "proposed_dams.plot(ax=ax)\n",
    "\n",
    "ax.set(title='Global Ramsar Sites and Proposed Dams')\n",
    "ax.set_axis_off()\n",
    "plt.axis('equal')"
   ]
  },
  {
   "cell_type": "code",
   "execution_count": 27,
   "metadata": {},
   "outputs": [],
   "source": [
    "# Create 5km and 10km buffer on dam points and check for overlap with ramsar polygons"
   ]
  },
  {
   "cell_type": "code",
   "execution_count": null,
   "metadata": {},
   "outputs": [],
   "source": [
    "# STATS & PLOTS\n",
    "# Global map of proposed dams and protected areas, then Zoom to a particular area\n",
    "# Number of impacted areas per region (continent, country, river basin)\n",
    "# Graph of number of dams proposed by year (or bins i.e. decades) or country?\n",
    "\n"
   ]
  }
 ],
 "metadata": {
  "kernelspec": {
   "display_name": "Python 3",
   "language": "python",
   "name": "python3"
  },
  "language_info": {
   "codemirror_mode": {
    "name": "ipython",
    "version": 3
   },
   "file_extension": ".py",
   "mimetype": "text/x-python",
   "name": "python",
   "nbconvert_exporter": "python",
   "pygments_lexer": "ipython3",
   "version": "3.7.6"
  },
  "toc": {
   "base_numbering": 1,
   "nav_menu": {},
   "number_sections": true,
   "sideBar": true,
   "skip_h1_title": false,
   "title_cell": "Table of Contents",
   "title_sidebar": "Contents",
   "toc_cell": false,
   "toc_position": {},
   "toc_section_display": true,
   "toc_window_display": false
  }
 },
 "nbformat": 4,
 "nbformat_minor": 4
}
