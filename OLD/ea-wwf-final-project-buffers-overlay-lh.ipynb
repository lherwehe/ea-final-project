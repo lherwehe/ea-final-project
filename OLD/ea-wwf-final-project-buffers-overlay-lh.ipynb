{
 "cells": [
  {
   "cell_type": "markdown",
   "metadata": {},
   "source": [
    "# Final Project: Earth Analytics Python Course, Spring 2020\n",
    "## Steph Shepherd & Lauren Herwehe"
   ]
  },
  {
   "cell_type": "code",
   "execution_count": 4,
   "metadata": {},
   "outputs": [],
   "source": [
    "# Import libraries\n",
    "import warnings\n",
    "from glob import glob\n",
    "import os\n",
    "\n",
    "import numpy as np\n",
    "import numpy.ma as ma\n",
    "import pandas as pd\n",
    "import matplotlib.pyplot as plt\n",
    "import matplotlib.patches as mpatches\n",
    "import matplotlib.lines as mlines\n",
    "import geopandas as gpd\n",
    "from geopandas import GeoDataFrame as gdf\n",
    "from geopandas import GeoSeries as gs\n",
    "from shapely.geometry import Point, Polygon\n",
    "import shapely.speedups\n",
    "import urllib.request\n",
    "\n",
    "import contextily as ctx\n",
    "import earthpy as et\n",
    "import earthpy.spatial as es\n",
    "import earthpy.plot as ep\n",
    "from earthpy import clip as cl\n",
    "\n",
    "from zipfile import ZipFile\n",
    "\n",
    "# Set working directory\n",
    "os.chdir(os.path.join(et.io.HOME, 'earth-analytics', 'data'))"
   ]
  },
  {
   "cell_type": "code",
   "execution_count": 6,
   "metadata": {},
   "outputs": [
    {
     "name": "stdout",
     "output_type": "stream",
     "text": [
      "Downloading from https://ndownloader.figshare.com/files/22507082\n",
      "Extracted output to /home/jovyan/earth-analytics/data/earthpy-downloads/ramsar-site-data\n"
     ]
    },
    {
     "data": {
      "text/plain": [
       "'/home/jovyan/earth-analytics/data/earthpy-downloads/country-borders'"
      ]
     },
     "execution_count": 6,
     "metadata": {},
     "output_type": "execute_result"
    }
   ],
   "source": [
    "# Download Data\n",
    "# Ramsar Sites\n",
    "et.data.get_data(url=\"https://ndownloader.figshare.com/files/22507082\")\n",
    "\n",
    "# Future dams\n",
    "et.data.get_data(url=\"https://ndownloader.figshare.com/files/22486157\")\n",
    "\n",
    "# Country boundaries\n",
    "et.data.get_data(url=\"https://ndownloader.figshare.com/files/22507058\")"
   ]
  },
  {
   "cell_type": "code",
   "execution_count": 3,
   "metadata": {},
   "outputs": [
    {
     "name": "stdout",
     "output_type": "stream",
     "text": [
      "epsg:4326\n"
     ]
    },
    {
     "name": "stderr",
     "output_type": "stream",
     "text": [
      "/opt/conda/lib/python3.7/site-packages/pyproj/crs/crs.py:53: FutureWarning: '+init=<authority>:<code>' syntax is deprecated. '<authority>:<code>' is the preferred initialization method. When making the change, be mindful of axis order changes: https://pyproj4.github.io/pyproj/stable/gotchas.html#axis-order-changes-in-proj-6\n",
      "  return _prepare_from_string(\" \".join(pjargs))\n"
     ]
    },
    {
     "ename": "DriverError",
     "evalue": "final-project-data/country-borders/99bfd9e7-bb42-4728-87b5-07f8c8ac631c2020328-1-1vef4ev.lu5nk.shp: No such file or directory",
     "output_type": "error",
     "traceback": [
      "\u001b[0;31m---------------------------------------------------------------------------\u001b[0m",
      "\u001b[0;31mCPLE_OpenFailedError\u001b[0m                      Traceback (most recent call last)",
      "\u001b[0;32mfiona/_shim.pyx\u001b[0m in \u001b[0;36mfiona._shim.gdal_open_vector\u001b[0;34m()\u001b[0m\n",
      "\u001b[0;32mfiona/_err.pyx\u001b[0m in \u001b[0;36mfiona._err.exc_wrap_pointer\u001b[0;34m()\u001b[0m\n",
      "\u001b[0;31mCPLE_OpenFailedError\u001b[0m: final-project-data/country-borders/99bfd9e7-bb42-4728-87b5-07f8c8ac631c2020328-1-1vef4ev.lu5nk.shp: No such file or directory",
      "\nDuring handling of the above exception, another exception occurred:\n",
      "\u001b[0;31mDriverError\u001b[0m                               Traceback (most recent call last)",
      "\u001b[0;32m<ipython-input-3-ad65589ea11a>\u001b[0m in \u001b[0;36m<module>\u001b[0;34m\u001b[0m\n\u001b[1;32m     33\u001b[0m country_borders_path = os.path.join(\"final-project-data\",\"country-borders\",\n\u001b[1;32m     34\u001b[0m                                   \"99bfd9e7-bb42-4728-87b5-07f8c8ac631c2020328-1-1vef4ev.lu5nk.shp\")\n\u001b[0;32m---> 35\u001b[0;31m \u001b[0mcountry_borders\u001b[0m \u001b[0;34m=\u001b[0m \u001b[0mgpd\u001b[0m\u001b[0;34m.\u001b[0m\u001b[0mread_file\u001b[0m\u001b[0;34m(\u001b[0m\u001b[0mcountry_borders_path\u001b[0m\u001b[0;34m)\u001b[0m\u001b[0;34m\u001b[0m\u001b[0;34m\u001b[0m\u001b[0m\n\u001b[0m\u001b[1;32m     36\u001b[0m \u001b[0;34m\u001b[0m\u001b[0m\n\u001b[1;32m     37\u001b[0m \u001b[0;34m\u001b[0m\u001b[0m\n",
      "\u001b[0;32m/opt/conda/lib/python3.7/site-packages/geopandas/io/file.py\u001b[0m in \u001b[0;36mread_file\u001b[0;34m(filename, bbox, mask, rows, **kwargs)\u001b[0m\n\u001b[1;32m     87\u001b[0m \u001b[0;34m\u001b[0m\u001b[0m\n\u001b[1;32m     88\u001b[0m     \u001b[0;32mwith\u001b[0m \u001b[0mfiona_env\u001b[0m\u001b[0;34m(\u001b[0m\u001b[0;34m)\u001b[0m\u001b[0;34m:\u001b[0m\u001b[0;34m\u001b[0m\u001b[0;34m\u001b[0m\u001b[0m\n\u001b[0;32m---> 89\u001b[0;31m         \u001b[0;32mwith\u001b[0m \u001b[0mreader\u001b[0m\u001b[0;34m(\u001b[0m\u001b[0mpath_or_bytes\u001b[0m\u001b[0;34m,\u001b[0m \u001b[0;34m**\u001b[0m\u001b[0mkwargs\u001b[0m\u001b[0;34m)\u001b[0m \u001b[0;32mas\u001b[0m \u001b[0mfeatures\u001b[0m\u001b[0;34m:\u001b[0m\u001b[0;34m\u001b[0m\u001b[0;34m\u001b[0m\u001b[0m\n\u001b[0m\u001b[1;32m     90\u001b[0m \u001b[0;34m\u001b[0m\u001b[0m\n\u001b[1;32m     91\u001b[0m             \u001b[0;31m# In a future Fiona release the crs attribute of features will\u001b[0m\u001b[0;34m\u001b[0m\u001b[0;34m\u001b[0m\u001b[0;34m\u001b[0m\u001b[0m\n",
      "\u001b[0;32m/opt/conda/lib/python3.7/site-packages/fiona/env.py\u001b[0m in \u001b[0;36mwrapper\u001b[0;34m(*args, **kwargs)\u001b[0m\n\u001b[1;32m    396\u001b[0m     \u001b[0;32mdef\u001b[0m \u001b[0mwrapper\u001b[0m\u001b[0;34m(\u001b[0m\u001b[0;34m*\u001b[0m\u001b[0margs\u001b[0m\u001b[0;34m,\u001b[0m \u001b[0;34m**\u001b[0m\u001b[0mkwargs\u001b[0m\u001b[0;34m)\u001b[0m\u001b[0;34m:\u001b[0m\u001b[0;34m\u001b[0m\u001b[0;34m\u001b[0m\u001b[0m\n\u001b[1;32m    397\u001b[0m         \u001b[0;32mif\u001b[0m \u001b[0mlocal\u001b[0m\u001b[0;34m.\u001b[0m\u001b[0m_env\u001b[0m\u001b[0;34m:\u001b[0m\u001b[0;34m\u001b[0m\u001b[0;34m\u001b[0m\u001b[0m\n\u001b[0;32m--> 398\u001b[0;31m             \u001b[0;32mreturn\u001b[0m \u001b[0mf\u001b[0m\u001b[0;34m(\u001b[0m\u001b[0;34m*\u001b[0m\u001b[0margs\u001b[0m\u001b[0;34m,\u001b[0m \u001b[0;34m**\u001b[0m\u001b[0mkwargs\u001b[0m\u001b[0;34m)\u001b[0m\u001b[0;34m\u001b[0m\u001b[0;34m\u001b[0m\u001b[0m\n\u001b[0m\u001b[1;32m    399\u001b[0m         \u001b[0;32melse\u001b[0m\u001b[0;34m:\u001b[0m\u001b[0;34m\u001b[0m\u001b[0;34m\u001b[0m\u001b[0m\n\u001b[1;32m    400\u001b[0m             \u001b[0;32mif\u001b[0m \u001b[0misinstance\u001b[0m\u001b[0;34m(\u001b[0m\u001b[0margs\u001b[0m\u001b[0;34m[\u001b[0m\u001b[0;36m0\u001b[0m\u001b[0;34m]\u001b[0m\u001b[0;34m,\u001b[0m \u001b[0mstr\u001b[0m\u001b[0;34m)\u001b[0m\u001b[0;34m:\u001b[0m\u001b[0;34m\u001b[0m\u001b[0;34m\u001b[0m\u001b[0m\n",
      "\u001b[0;32m/opt/conda/lib/python3.7/site-packages/fiona/__init__.py\u001b[0m in \u001b[0;36mopen\u001b[0;34m(fp, mode, driver, schema, crs, encoding, layer, vfs, enabled_drivers, crs_wkt, **kwargs)\u001b[0m\n\u001b[1;32m    252\u001b[0m         \u001b[0;32mif\u001b[0m \u001b[0mmode\u001b[0m \u001b[0;32min\u001b[0m \u001b[0;34m(\u001b[0m\u001b[0;34m'a'\u001b[0m\u001b[0;34m,\u001b[0m \u001b[0;34m'r'\u001b[0m\u001b[0;34m)\u001b[0m\u001b[0;34m:\u001b[0m\u001b[0;34m\u001b[0m\u001b[0;34m\u001b[0m\u001b[0m\n\u001b[1;32m    253\u001b[0m             c = Collection(path, mode, driver=driver, encoding=encoding,\n\u001b[0;32m--> 254\u001b[0;31m                            layer=layer, enabled_drivers=enabled_drivers, **kwargs)\n\u001b[0m\u001b[1;32m    255\u001b[0m         \u001b[0;32melif\u001b[0m \u001b[0mmode\u001b[0m \u001b[0;34m==\u001b[0m \u001b[0;34m'w'\u001b[0m\u001b[0;34m:\u001b[0m\u001b[0;34m\u001b[0m\u001b[0;34m\u001b[0m\u001b[0m\n\u001b[1;32m    256\u001b[0m             \u001b[0;32mif\u001b[0m \u001b[0mschema\u001b[0m\u001b[0;34m:\u001b[0m\u001b[0;34m\u001b[0m\u001b[0;34m\u001b[0m\u001b[0m\n",
      "\u001b[0;32m/opt/conda/lib/python3.7/site-packages/fiona/collection.py\u001b[0m in \u001b[0;36m__init__\u001b[0;34m(self, path, mode, driver, schema, crs, encoding, layer, vsi, archive, enabled_drivers, crs_wkt, ignore_fields, ignore_geometry, **kwargs)\u001b[0m\n\u001b[1;32m    152\u001b[0m             \u001b[0;32mif\u001b[0m \u001b[0mself\u001b[0m\u001b[0;34m.\u001b[0m\u001b[0mmode\u001b[0m \u001b[0;34m==\u001b[0m \u001b[0;34m'r'\u001b[0m\u001b[0;34m:\u001b[0m\u001b[0;34m\u001b[0m\u001b[0;34m\u001b[0m\u001b[0m\n\u001b[1;32m    153\u001b[0m                 \u001b[0mself\u001b[0m\u001b[0;34m.\u001b[0m\u001b[0msession\u001b[0m \u001b[0;34m=\u001b[0m \u001b[0mSession\u001b[0m\u001b[0;34m(\u001b[0m\u001b[0;34m)\u001b[0m\u001b[0;34m\u001b[0m\u001b[0;34m\u001b[0m\u001b[0m\n\u001b[0;32m--> 154\u001b[0;31m                 \u001b[0mself\u001b[0m\u001b[0;34m.\u001b[0m\u001b[0msession\u001b[0m\u001b[0;34m.\u001b[0m\u001b[0mstart\u001b[0m\u001b[0;34m(\u001b[0m\u001b[0mself\u001b[0m\u001b[0;34m,\u001b[0m \u001b[0;34m**\u001b[0m\u001b[0mkwargs\u001b[0m\u001b[0;34m)\u001b[0m\u001b[0;34m\u001b[0m\u001b[0;34m\u001b[0m\u001b[0m\n\u001b[0m\u001b[1;32m    155\u001b[0m             \u001b[0;32melif\u001b[0m \u001b[0mself\u001b[0m\u001b[0;34m.\u001b[0m\u001b[0mmode\u001b[0m \u001b[0;32min\u001b[0m \u001b[0;34m(\u001b[0m\u001b[0;34m'a'\u001b[0m\u001b[0;34m,\u001b[0m \u001b[0;34m'w'\u001b[0m\u001b[0;34m)\u001b[0m\u001b[0;34m:\u001b[0m\u001b[0;34m\u001b[0m\u001b[0;34m\u001b[0m\u001b[0m\n\u001b[1;32m    156\u001b[0m                 \u001b[0mself\u001b[0m\u001b[0;34m.\u001b[0m\u001b[0msession\u001b[0m \u001b[0;34m=\u001b[0m \u001b[0mWritingSession\u001b[0m\u001b[0;34m(\u001b[0m\u001b[0;34m)\u001b[0m\u001b[0;34m\u001b[0m\u001b[0;34m\u001b[0m\u001b[0m\n",
      "\u001b[0;32mfiona/ogrext.pyx\u001b[0m in \u001b[0;36mfiona.ogrext.Session.start\u001b[0;34m()\u001b[0m\n",
      "\u001b[0;32mfiona/_shim.pyx\u001b[0m in \u001b[0;36mfiona._shim.gdal_open_vector\u001b[0;34m()\u001b[0m\n",
      "\u001b[0;31mDriverError\u001b[0m: final-project-data/country-borders/99bfd9e7-bb42-4728-87b5-07f8c8ac631c2020328-1-1vef4ev.lu5nk.shp: No such file or directory"
     ]
    }
   ],
   "source": [
    "# Open the ramsar shapefile with geopandas\n",
    "ramsar_areas = gpd.read_file(os.path.join(\n",
    "    \"ramsar\", \"features_publishedPolygon.shp\"))\n",
    "\n",
    "# Check the crs of the ramsar sites\n",
    "print(ramsar_areas.crs)\n",
    "\n",
    "# Open the dams csv files with pandas\n",
    "fname = os.path.join(\"earthpy-downloads\", \"future_dams_2015.csv\")\n",
    "df = pd.read_csv(fname)\n",
    "\n",
    "# Covert the pandas dataframe to a shapefile for plotting\n",
    "# Set output path for shp\n",
    "dams_path = os.path.join('final-project-data', 'fhred-proposed-dams')\n",
    "if not os.path.exists(dams_path):\n",
    "    os.mkdir(dams_path)\n",
    "\n",
    "# Define the geometry for the points\n",
    "geometry = [Point(xy) for xy in zip(df.Lon_Cleaned, df.LAT_cleaned)]\n",
    "crs = {'init': 'epsg:4326'}\n",
    "geo_df = gdf(df, crs=crs, geometry=geometry)\n",
    "geo_df.to_file(driver='ESRI Shapefile', filename=os.path.join(\n",
    "    dams_path, 'proposed_dams.shp'))\n",
    "\n",
    "# Open the proposed dams shapefile with geopandas\n",
    "proposed_dams = gpd.read_file(os.path.join(dams_path, \"proposed_dams.shp\"))\n",
    "\n",
    "# Pull only the columns that we need from each gdf to save processing time\n",
    "proposed_dams = proposed_dams[['Country', 'Continent', 'Major Basi', 'Stage', 'geometry']]\n",
    "ramsar_areas = ramsar_areas[['country_en', 'geometry']]\n",
    "\n",
    "# Open country borders shapefile for adding boundary of study area\n",
    "country_borders_path = os.path.join('final-project-data', 'country-borders', '99bfd9e7-bb42-4728-87b5-07f8c8ac631c2020328-1-1vef4ev.lu5nk.shp')\n",
    "country_borders = gpd.read_file(country_borders_path)\n",
    "\n",
    "\n",
    "# Open country borders shapefile for adding boundary of study area\n",
    "south_america_path = os.path.join(\"final-project-data\",\"south-america\",\n",
    "                                  \"vc965bq8111.shp\")\n",
    "south_america = gpd.read_file(south_america_path)"
   ]
  },
  {
   "cell_type": "code",
   "execution_count": null,
   "metadata": {},
   "outputs": [],
   "source": [
    "# Getting Number of Dams by Continent and Development State\n",
    "# Extact the columns needed for analysis\n",
    "dams_continent = proposed_dams[['Continent', 'Country', 'Stage']]\n",
    "\n",
    "# Group and count data by stage.\n",
    "dams_stage = dams_continent.groupby(['Continent','Country','Stage'])[['Stage']].count()"
   ]
  },
  {
   "cell_type": "code",
   "execution_count": null,
   "metadata": {},
   "outputs": [],
   "source": [
    "# PLOT - NUMBER OF DAMS PROPOSED VS UNDER CONSTRUCTION BY CONTINENT\n",
    "# Create a bar plot of the dams by continent and stage of process.\n",
    "labels = ['Africa', 'Asia', 'Europe', 'N. America', 'Oceania', 'S. America']\n",
    "proposed = [179, 937, 611, 143, 7, 1188]\n",
    "under_const = [21, 424, 41, 34, 1, 114]\n",
    "\n",
    "x = np.arange(len(labels))  # the label locations\n",
    "width = 0.35  # the width of the bars\n",
    "\n",
    "fig, ax = plt.subplots()\n",
    "rects1 = ax.bar(x - width/2, proposed, width, label='Proposed')\n",
    "rects2 = ax.bar(x + width/2, under_const, width, label='Under Construction')\n",
    "\n",
    "# Add some text for labels, title and custom x-axis tick labels, etc.\n",
    "ax.set_ylabel('Count')\n",
    "ax.set_title('Create a nice title')\n",
    "ax.set_xticks(x)\n",
    "ax.set_xticklabels(labels, rotation=45)\n",
    "ax.legend()\n",
    "\n",
    "\n",
    "def autolabel(rects):\n",
    "    \"\"\"Attach a text label above each bar in *rects*, displaying its value.\"\"\"\n",
    "    for rect in rects:\n",
    "        height = rect.get_height()\n",
    "        ax.annotate('{}'.format(height),\n",
    "                    xy=(rect.get_x() + rect.get_width() / 2, height),\n",
    "                    xytext=(0, 3),  # 3 points vertical offset\n",
    "                    textcoords=\"offset points\",\n",
    "                    ha='center', va='bottom')\n",
    "\n",
    "\n",
    "autolabel(rects1)\n",
    "autolabel(rects2)\n",
    "\n",
    "fig.tight_layout()\n",
    "\n",
    "plt.show()"
   ]
  },
  {
   "cell_type": "code",
   "execution_count": null,
   "metadata": {},
   "outputs": [],
   "source": [
    "# Analyze Guinea\n",
    "# Change the CRS to meters for Guinea\n",
    "proposed_dams_guin = proposed_dams.to_crs('epsg:3395')\n",
    "ramsar_areas_guin = ramsar_areas.to_crs('epsg:3395')\n",
    "\n",
    "# Pull only the data for Guinea\n",
    "proposed_dams_guin = proposed_dams_guin[proposed_dams_guin['Country'] == \"Guinea\"]\n",
    "ramsar_areas_guin = ramsar_areas_guin[ramsar_areas_guin['country_en'] == \"Guinea\"]\n",
    "\n",
    "# Buffer the dams to 5km & 10km for plotting\n",
    "proposed_dams_guin_5k_buff = proposed_dams_guin.buffer(5000)\n",
    "proposed_dams_guin_10k_buff = proposed_dams_guin.buffer(10000)\n",
    "\n",
    "# # NOT WORKING - MAKING BUFFERS THEIR OWN COLUMNS SO AS NOT TO KEEP MAKING ORIGINAL POINT GEOMETRY LARGER EVERY TIME WE BUFFER\n",
    "# # Buffer the dams to 5km, set it as the geometry for the overlay, and create geodataframe of intersections\n",
    "# proposed_dams_guin['geom_5k_buff']= proposed_dams_guin.buffer(5000)\n",
    "# proposed_dams_guin.set_geometry('geom_5k_buff')\n",
    "# data_intersect_5k_guin = gpd.overlay(ramsar_areas_guin, proposed_dams_guin, how='intersection')\n",
    "\n",
    "# # Buffer the dams to 10km, set it as the geometry for the overlay, and create geodataframe of intersections\n",
    "# proposed_dams_guin['geom_10k_buff']= proposed_dams_guin.buffer(10000)\n",
    "# proposed_dams_guin.set_geometry('geom_10k_buff')\n",
    "# data_intersect_10k_guin = gpd.overlay(ramsar_areas_guin, proposed_dams_guin, how='intersection')\n"
   ]
  },
  {
   "cell_type": "code",
   "execution_count": null,
   "metadata": {},
   "outputs": [],
   "source": [
    "# Get border of Guinea and reproject\n",
    "guinea_border = country_borders[country_borders['CNTRY_NAME'] == \"Guinea\"]\n",
    "guinea_border = guinea_border.to_crs('epsg:3395')"
   ]
  },
  {
   "cell_type": "code",
   "execution_count": null,
   "metadata": {},
   "outputs": [],
   "source": [
    "# Create a map of the dams and the ramsar sites for Guinea\n",
    "# Creating a legend very manually bc can't get it to work any other way\n",
    "yellow_patch = mpatches.Patch(color='yellow', label='Ramsar Area')\n",
    "black_line = mlines.Line2D([], [], color='black', label='Country Border')\n",
    "green_circle= mlines.Line2D([], [], color='white', marker='o', markerfacecolor='forestgreen', markersize=18, label='10km Buffer')\n",
    "lime_circle= mlines.Line2D([], [], color='white', marker='o', markerfacecolor='lime', markersize=12, label='5km Buffer')\n",
    "red_dot= mlines.Line2D([], [], color='white', marker='o', markerfacecolor='red', label='Proposed Dam Site')\n",
    "\n",
    "fig, ax = plt.subplots(figsize=(15, 15))\n",
    "guinea_border.plot(ax=ax, color=\"none\",  edgecolor=\"black\", linewidth=2)\n",
    "ramsar_areas_guin.plot(ax=ax, facecolor = 'yellow')\n",
    "proposed_dams_guin_10k_buff.plot(facecolor='forestgreen',\n",
    "    ax=ax)\n",
    "proposed_dams_guin_5k_buff.plot(facecolor='lime',\n",
    "    ax=ax)\n",
    "proposed_dams_guin.plot(ax=ax,\n",
    "                         markersize=5,\n",
    "                         color='red')\n",
    "ax.legend(handles=[yellow_patch, black_line, green_circle, lime_circle, red_dot],\n",
    "          fontsize=15,\n",
    "          frameon=True,\n",
    "          loc=('upper right'),\n",
    "          title=\"LEGEND\")\n",
    "ctx.add_basemap(ax, url=ctx.providers.Stamen.Terrain, zoom=0)\n",
    "ax.set(title='Guinea Ramsar Sites, Proposed Dams, and Intersection Areas')\n",
    "ax.set_axis_off()"
   ]
  },
  {
   "cell_type": "code",
   "execution_count": null,
   "metadata": {},
   "outputs": [],
   "source": [
    "# PROBLEM - EVERY TIME YOU RUN THIS CODE IT BUFFERS UPON THE BUFFER, SO THE BUFFERS JUST GROW AND GROW!!!!\n",
    "# Calculate the total area of buffers that overlaps ramsar sites for Guinea\n",
    "# Buffer the dams to 5km\n",
    "proposed_dams_guin['geometry']= proposed_dams_guin.buffer(5000)\n",
    "\n",
    "# Create a geodataframe of only the intersections\n",
    "data_intersect_5k_guin = gpd.overlay(ramsar_areas_guin, proposed_dams_guin, how='intersection')\n",
    "\n",
    "# Buffer the dams to 10km, by adding another 5km buffer\n",
    "proposed_dams_guin['geometry']= proposed_dams_guin.buffer(5000)\n",
    "\n",
    "# Create a geodataframe of only the intersections\n",
    "data_intersect_10k_guin = gpd.overlay(ramsar_areas_guin, proposed_dams_guin, how='intersection')"
   ]
  },
  {
   "cell_type": "code",
   "execution_count": null,
   "metadata": {},
   "outputs": [],
   "source": [
    "# Get the total sum of the intersection area for each in sq km (divide by 1 million because it sq km)\n",
    "area_impacted_5k_guin = (data_intersect_5k_guin.area.sum())/1000000\n",
    "area_impacted_10k_guin = (data_intersect_10k_guin.area.sum())/1000000\n",
    "total_ramsar_areas_guin = (ramsar_areas_guin.area.sum())/1000000\n",
    "\n",
    "print(area_impacted_5k_guin)\n",
    "print(area_impacted_10k_guin)\n",
    "print(total_ramsar_areas_guin)"
   ]
  },
  {
   "cell_type": "code",
   "execution_count": null,
   "metadata": {},
   "outputs": [],
   "source": []
  },
  {
   "cell_type": "code",
   "execution_count": null,
   "metadata": {},
   "outputs": [],
   "source": []
  },
  {
   "cell_type": "code",
   "execution_count": null,
   "metadata": {},
   "outputs": [],
   "source": []
  },
  {
   "cell_type": "code",
   "execution_count": null,
   "metadata": {},
   "outputs": [],
   "source": [
    "# POTENTIAL FUNCTIONS\n",
    "# Input - country/river basin/continent name, Output - area of overlap, # of dams that overlap\n",
    "# Then i can do each country in south america with the function and plot the area affected by country\n",
    "\n",
    "# PLOT - TOTAL AREA IMPACTED PER REGION (continent, country, river basin)"
   ]
  },
  {
   "cell_type": "code",
   "execution_count": null,
   "metadata": {},
   "outputs": [],
   "source": [
    "# # NOT WORKING - INTERSECT TO SEE HOW MANY PROPOSED DAMS OVERLAP WITH RAMSAR SITES FOR COUNTY/CONTINENT/RIVER BASIN\n",
    "# # Choose study area - see how many dams overlap with ramsar areas & choose the country with the most overlaps for study area\n",
    "# dam_mask = proposed_dams.intersects(ramsar_areas)\n",
    "# dam_mask.value_counts()"
   ]
  },
  {
   "cell_type": "code",
   "execution_count": null,
   "metadata": {},
   "outputs": [],
   "source": [
    "# # NOT WORKING - TOO SLOW/TOO MUCH DATA - DOING THE BUFFER & OVERLAY PROCESS FOR ALL OF SOUTH AMERICA\n",
    "# # Attempting the buffers for South America\n",
    "# # Change the CRS to meters for South America (chose Brazil's EPSG)\n",
    "# proposed_dams_sa = proposed_dams.to_crs('epsg:5641')\n",
    "# ramsar_areas_sa = ramsar_areas.to_crs('epsg:5641')\n",
    "# south_america = south_america.to_crs('epsg:5641')\n",
    "\n",
    "# # Clip the data to South America\n",
    "# proposed_dams_sa = gpd.clip(proposed_dams_sa, south_america)\n",
    "# ramsar_areas_sa= gpd.clip(ramsar_areas_sa, south_america)\n",
    "\n",
    "# # Buffer the dams to 5km & 10km for plotting\n",
    "# proposed_dams_sa_5k_buff = proposed_dams_sa.buffer(.001)\n",
    "# proposed_dams_sa_10k_buff = proposed_dams_sa.buffer(.001)\n",
    "\n",
    "# # Create a map of the dams and the ramsar sites for Guinea\n",
    "# # Creating a legend very manually bc can't get it to work any other way\n",
    "# yellow_patch = mpatches.Patch(color='yellow', label='Ramsar Area')\n",
    "# black_line = mlines.Line2D([], [], color='black', label='Country Border')\n",
    "# green_circle= mlines.Line2D([], [], color='white', marker='o', markerfacecolor='forestgreen', markersize=18, label='10km Buffer')\n",
    "# lime_circle= mlines.Line2D([], [], color='white', marker='o', markerfacecolor='lime', markersize=12, label='5km Buffer')\n",
    "# red_dot= mlines.Line2D([], [], color='white', marker='o', markerfacecolor='red', label='Proposed Dam Site')\n",
    "\n",
    "# fig, ax = plt.subplots(figsize=(15, 15))\n",
    "# ramsar_areas_sa.plot(ax=ax, facecolor = 'yellow')\n",
    "# proposed_dams_sa_10k_buff.plot(facecolor='forestgreen',\n",
    "#     ax=ax)\n",
    "# proposed_dams_sa_5k_buff.plot(facecolor='lime',\n",
    "#     ax=ax)\n",
    "# proposed_dams_sa.plot(ax=ax,\n",
    "#                          markersize=5,\n",
    "#                          color='red')\n",
    "# ax.legend(handles=[yellow_patch, black_line, green_circle, lime_circle, red_dot],\n",
    "#           fontsize=15,\n",
    "#           frameon=True,\n",
    "#           loc=('upper right'),\n",
    "#           title=\"LEGEND\")\n",
    "# ctx.add_basemap(ax, url=ctx.providers.Stamen.Terrain, zoom=0)\n",
    "# ax.set(title='South America Ramsar Sites, Proposed Dams, and Intersection Areas')\n",
    "# ax.set_axis_off()\n",
    "\n",
    "# # PROBLEM - EVERY TIME YOU RUN THIS CODE IT BUFFERS UPON THE BUFFER, SO THE BUFFERS JUST GROW AND GROW!!!!\n",
    "# # Calculate the total area of buffers that overlaps ramsar sites for Guinea\n",
    "# # Buffer the dams to 5km\n",
    "# proposed_dams_sa['geometry']= proposed_dams_sa.buffer(5000)\n",
    "\n",
    "# # Create a geodataframe of only the intersections\n",
    "# data_intersect_5k_sa = gpd.overlay(ramsar_areas_sa, proposed_dams_sa, how='intersection')\n",
    "\n",
    "# # Buffer the dams to 10km, by adding another 5km buffer\n",
    "# proposed_dams_sa['geometry']= proposed_dams_sa.buffer(5000)\n",
    "\n",
    "# # Create a geodataframe of only the intersections\n",
    "# data_intersect_10k_sa = gpd.overlay(ramsar_areas_sa, proposed_dams_sa, how='intersection')\n",
    "\n",
    "# # Get the total sum of the intersection area for each in sq km (divide by 1 million because it sq km)\n",
    "# area_impacted_5k_sa = (data_intersect_5k_sa.area.sum())/1000000\n",
    "# area_impacted_10k_sa = (data_intersect_10k_sa.area.sum())/1000000\n",
    "# total_ramsar_areas_sa = (ramsar_areas_sa.area.sum())/1000000\n",
    "\n",
    "# print(area_impacted_5k_sa)\n",
    "# print(area_impacted_10k_sa)\n",
    "# print(total_ramsar_areas_sa)\n"
   ]
  }
 ],
 "metadata": {
  "kernelspec": {
   "display_name": "Python 3",
   "language": "python",
   "name": "python3"
  },
  "language_info": {
   "codemirror_mode": {
    "name": "ipython",
    "version": 3
   },
   "file_extension": ".py",
   "mimetype": "text/x-python",
   "name": "python",
   "nbconvert_exporter": "python",
   "pygments_lexer": "ipython3",
   "version": "3.7.6"
  },
  "toc": {
   "base_numbering": 1,
   "nav_menu": {},
   "number_sections": true,
   "sideBar": true,
   "skip_h1_title": false,
   "title_cell": "Table of Contents",
   "title_sidebar": "Contents",
   "toc_cell": false,
   "toc_position": {},
   "toc_section_display": true,
   "toc_window_display": false
  }
 },
 "nbformat": 4,
 "nbformat_minor": 4
}
